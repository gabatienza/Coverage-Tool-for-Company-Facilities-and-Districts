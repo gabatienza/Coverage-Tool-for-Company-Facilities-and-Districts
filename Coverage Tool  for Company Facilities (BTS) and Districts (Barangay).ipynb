{
 "cells": [
  {
   "cell_type": "markdown",
   "metadata": {},
   "source": [
    "Background: I used to work for PLDT, a telecommunications company. When it acquired another telecommunications company, Sun Cellular, we suddenly had a lot of facilities to take into consideration. I needed to analyze the effectiveness and coverage of all our BTS (Base Transmitter Station). The analysis should be on a granular level since this will be presented to all PLDT districts in the whole country to be used by their sales and engineering teams. A \"Barangay\" in the Philippines is similar to a District in the USA. Both are larger than a household but smaller than a city.\n",
    "\n",
    "I worked with 2 data sets; BTS data, which is the company data and Barangays data, which is available from the government website."
   ]
  },
  {
   "cell_type": "code",
   "execution_count": 15,
   "metadata": {
    "collapsed": true
   },
   "outputs": [],
   "source": [
    "import pandas as pd\n",
    "import numpy as np\n",
    "from math import *\n",
    "from geopy.distance import *\n",
    "from mpl_toolkits.basemap import Basemap\n",
    "import matplotlib.pyplot as plt\n"
   ]
  },
  {
   "cell_type": "code",
   "execution_count": 16,
   "metadata": {
    "scrolled": true
   },
   "outputs": [
    {
     "name": "stdout",
     "output_type": "stream",
     "text": [
      "Num of BTS:  7133\n",
      "        BTS   Latitude   Longitude  Radius\n",
      "Index                                     \n",
      "A37     A37   8.971306  125.392364     1.5\n",
      "R69     R69   9.341972  125.514969     1.5\n",
      "4418   4418   8.671445  125.661781     1.5\n",
      "R77     R77   8.386945  125.999557     1.5\n",
      "584     584  14.650139  120.358948     1.5\n"
     ]
    }
   ],
   "source": [
    "#BTS data\n",
    "BTS = pd.read_csv(\"BTS.csv\")\n",
    "print(\"Num of BTS: \", BTS.shape[0])\n",
    "BTS[\"Index\"] = BTS[\"BTS\"]\n",
    "BTS = BTS.set_index(\"Index\")\n",
    "print(BTS[0:5])"
   ]
  },
  {
   "cell_type": "code",
   "execution_count": 17,
   "metadata": {},
   "outputs": [
    {
     "name": "stdout",
     "output_type": "stream",
     "text": [
      "Num of Barangays:  41994\n",
      "                NSCB            Brgy                 City Region Province  \\\n",
      "Index                                                                       \n",
      "137401001  137401001  Addition Hills  CITY OF MANDALUYONG    NCR      NCR   \n",
      "137401002  137401002   Bagong Silang  CITY OF MANDALUYONG    NCR      NCR   \n",
      "137401003  137401003  Barangka Drive  CITY OF MANDALUYONG    NCR      NCR   \n",
      "137401004  137401004  Barangka Ibaba  CITY OF MANDALUYONG    NCR      NCR   \n",
      "137401005  137401005  Barangka Ilaya  CITY OF MANDALUYONG    NCR      NCR   \n",
      "\n",
      "           District   Latitude   Longitude  Radius  \n",
      "Index                                               \n",
      "137401001  GMM EAST  14.586765  121.037094    0.62  \n",
      "137401002  GMM EAST  14.592816  121.028816    0.21  \n",
      "137401003  GMM EAST  14.573491  121.035763    0.27  \n",
      "137401004  GMM EAST  14.571926  121.037182    0.21  \n",
      "137401005  GMM EAST  14.573021  121.045574    0.37  \n"
     ]
    }
   ],
   "source": [
    "#Barangay data\n",
    "Barangay = pd.read_csv(\"Barangays.csv\")\n",
    "cols = ['NSCB', 'Brgy', 'City', 'Region', 'Province', 'District', 'Latitude',\n",
    "       'Longitude', 'Radius']\n",
    "Barangay = Barangay[cols]\n",
    "Barangay[\"NSCB\"] = Barangay[\"NSCB\"].astype(str)\n",
    "Barangay[\"Index\"] = Barangay[\"NSCB\"]\n",
    "Barangay = Barangay.set_index(\"Index\")\n",
    "print(\"Num of Barangays: \", Barangay.shape[0])\n",
    "print(Barangay.head(5))"
   ]
  },
  {
   "cell_type": "markdown",
   "metadata": {},
   "source": [
    "Info on BTS data:\n",
    "\n",
    "    Radius - shows the radius of coverage of a BTS in kilometers. Data coverage for all company BTS is approximated at 1.5 kilometers\n",
    "    BTS - the name of the BTS. (names have been changed for privacy)\n",
    "    Latitude - latitude of BTS in decimal degrees\n",
    "    Longitude - longitude of BTS in decimal degrees\n",
    "    \n",
    "Info on the Barangays data:\n",
    "\n",
    "    NSCB - unique code used by the government to identify each Barangay\n",
    "    Brgy - name of the Barangay\n",
    "    Latitude - latitude of Barangay in decimal degrees\n",
    "    Longitude - longitude of Barangay in decimal degrees\n",
    "    Radius - approximates a Barangay to be a circle with radius denoted in kilometers\n",
    "    \n",
    "Important Notes:\n",
    "The coverage of a BTS is not strictly 1.5 kilometers. It is dependent on other factors, such as; altitude, the number of tall buildings, etc.\n",
    "The government data approximates a Barangay in the shape of a circle. This works better for simplicity. However, it is important to take note of this when looking at the results of the analysis.\n",
    "    "
   ]
  },
  {
   "cell_type": "code",
   "execution_count": 18,
   "metadata": {
    "collapsed": true
   },
   "outputs": [],
   "source": [
    "def area_intersect (d, r1, r2):\n",
    "    a_c1 = pi*(pow(r1,2))\n",
    "    a_c2 = pi*(pow(r2,2)) \n",
    "    if d >= (r1+r2):\n",
    "        return None\n",
    "    elif d < (r1+r2):\n",
    "        if d <= abs(r1-r2):\n",
    "            if r1 < r2:\n",
    "                return a_c1\n",
    "            elif r2 < r1:\n",
    "                return a_c2\n",
    "        elif d > abs(r1-r2): \n",
    "            a1 = (pow(r1,2)-pow(r2,2)+pow(d,2))/(2*d)\n",
    "            a2 = (pow(r2,2)-pow(r1,2)+pow(d,2))/(2*d)\n",
    "            b = sqrt(pow(r1,2)-pow(a1,2))\n",
    "            tht1 = 2*(acos(a1/r1))\n",
    "            tht2 = 2*(acos(a2/r2))\n",
    "            sc_1 = (tht1/(2*pi))*(a_c1)\n",
    "            sc_2 = (tht2/(2*pi))*(a_c2)\n",
    "            t_1 = a1*b\n",
    "            t_2 = a2*b\n",
    "            sg_1 = sc_1 - t_1\n",
    "            sg_2 = sc_2 - t_2\n",
    "            return sg_1 + sg_2         \n",
    "    else:\n",
    "        return None    "
   ]
  },
  {
   "cell_type": "code",
   "execution_count": 66,
   "metadata": {},
   "outputs": [],
   "source": [
    "#input name, dataframe where input comes from, dataframe to find coverage in\n",
    "def area_covered (inp_name, df1, df2):\n",
    "    x = pd.DataFrame(columns = [df2.columns[0], \"Percent Covered\", \"Radius\", \"Area of Intersect\", \"Latitude\", \"Longitude\"])\n",
    "    name_lat = df1.loc[inp_name][\"Latitude\"]\n",
    "    name_long = df1.loc[inp_name][\"Longitude\"]\n",
    "    name_radius = df1.loc[inp_name][\"Radius\"]\n",
    "    i = 1\n",
    "    for index, row in df2.iterrows():\n",
    "        d = great_circle((name_lat,name_long),(row.loc[\"Latitude\"],row.loc[\"Longitude\"])).kilometers\n",
    "        z = area_intersect(d,name_radius,row.loc[\"Radius\"])\n",
    "        if z is not None:\n",
    "            x.loc[i] = [str(index), z/(pi* pow(row.loc[\"Radius\"],2)), row.loc[\"Radius\"], z,row.loc[\"Latitude\"] , row.loc[\"Longitude\"]]\n",
    "            i += 1    \n",
    "    return x"
   ]
  },
  {
   "cell_type": "code",
   "execution_count": 81,
   "metadata": {},
   "outputs": [],
   "source": [
    "def show_area_covered (inp_name, df1, df2):\n",
    "    name_lat = df1.loc[inp_name][\"Latitude\"]\n",
    "    name_long = df1.loc[inp_name][\"Longitude\"]\n",
    "    name_radius = df1.loc[inp_name][\"Radius\"]\n",
    "    g = area_covered(inp_name, df1, df2)\n",
    "    \n",
    "    %matplotlib inline\n",
    "    plt.figure(figsize=(5,5))\n",
    "    m = Basemap(width=12000,height=10000,projection='tmerc', resolution='c',lat_0=name_lat,lon_0=name_long)\n",
    "    m.scatter(name_long,name_lat, latlon=True, s = 100)\n",
    "       \n",
    "    Longitudes = g[\"Longitude\"].tolist()\n",
    "    Latitudes = g[\"Latitude\"].tolist()\n",
    "    m.scatter(Longitudes, Latitudes, latlon=True)\n",
    "    \n",
    "    for index, row in g.iterrows():\n",
    "        if (abs(row[\"Latitude\"] - name_lat) < 180) and (abs(row[\"Longitude\"] - name_long) < 180):\n",
    "            m.drawgreatcircle(name_long,name_lat,row[\"Longitude\"],row[\"Latitude\"])\n",
    "            row_long,row_lat = m(row.loc[\"Longitude\"], row.loc[\"Latitude\"])\n",
    "            #m.plot(row_long, row_lat, c=\"red\")\n",
    "        else:\n",
    "            return None\n",
    "    \n",
    "    print(\"Areas covered by\", inp_name)\n",
    "    print (\"\\n\")\n",
    "    print(g)\n"
   ]
  },
  {
   "cell_type": "code",
   "execution_count": 82,
   "metadata": {},
   "outputs": [
    {
     "name": "stdout",
     "output_type": "stream",
     "text": [
      "Areas covered by A37\n",
      "\n",
      "\n",
      "         NSCB  Percent Covered  Radius  Area of Intersect  Latitude  \\\n",
      "1   160201002         0.101658    1.31           0.548067  8.950885   \n",
      "2   160201014         0.691224    0.30           0.195439  8.962605   \n",
      "3   160201016         0.988098    0.34           0.358846  8.965730   \n",
      "4   160201017         1.000000    0.35           0.384845  8.969800   \n",
      "5   160201018         0.222163    0.50           0.174487  8.971260   \n",
      "6   160201019         0.773120    0.29           0.204264  8.975855   \n",
      "7   160201021         0.102200    0.49           0.077089  8.979120   \n",
      "8   160201024         1.000000    0.71           1.583677  8.975545   \n",
      "9   160209004         0.207676    1.37           1.224550  8.968880   \n",
      "10  160209006         0.956126    0.91           2.487411  8.968845   \n",
      "\n",
      "     Longitude  \n",
      "1   125.388725  \n",
      "2   125.401562  \n",
      "3   125.401535  \n",
      "4   125.401756  \n",
      "5   125.407883  \n",
      "6   125.403889  \n",
      "7   125.406929  \n",
      "8   125.395851  \n",
      "9   125.374287  \n",
      "10  125.386360  \n"
     ]
    },
    {
     "data": {
      "image/png": "[encoded data removed]",
      "text/plain": [
       "<matplotlib.figure.Figure at 0xf6b7208>"
      ]
     },
     "metadata": {},
     "output_type": "display_data"
    }
   ],
   "source": [
    "show_area_covered(\"A37\", BTS, Barangay)"
   ]
  },
  {
   "cell_type": "code",
   "execution_count": 84,
   "metadata": {},
   "outputs": [
    {
     "name": "stdout",
     "output_type": "stream",
     "text": [
      "Areas covered by 160201019\n",
      "\n",
      "\n",
      "     BTS  Percent Covered  Radius  Area of Intersect  Latitude   Longitude\n",
      "1    A37         0.028898     1.5           0.204264  8.971306  125.392364\n",
      "2   4516         0.037378     1.5           0.264208  8.976141  125.412249\n",
      "3  M2232         0.037378     1.5           0.264208  8.974040  125.408900\n"
     ]
    },
    {
     "data": {
      "image/png": "[encoded data removed]",
      "text/plain": [
       "<matplotlib.figure.Figure at 0xefbfd30>"
      ]
     },
     "metadata": {},
     "output_type": "display_data"
    }
   ],
   "source": [
    "show_area_covered(\"160201019\", Barangay, BTS)"
   ]
  },
  {
   "cell_type": "code",
   "execution_count": null,
   "metadata": {
    "collapsed": true
   },
   "outputs": [],
   "source": []
  }
 ],
 "metadata": {
  "kernelspec": {
   "display_name": "Python 3",
   "language": "python",
   "name": "python3"
  },
  "language_info": {
   "codemirror_mode": {
    "name": "ipython",
    "version": 3
   },
   "file_extension": ".py",
   "mimetype": "text/x-python",
   "name": "python",
   "nbconvert_exporter": "python",
   "pygments_lexer": "ipython3",
   "version": "3.6.3"
  }
 },
 "nbformat": 4,
 "nbformat_minor": 2
}
